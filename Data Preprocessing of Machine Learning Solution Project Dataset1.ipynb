{
 "cells": [
  {
   "cell_type": "code",
   "execution_count": 4,
   "id": "a294843e-f856-4fe3-a894-705eb8f3bbb6",
   "metadata": {},
   "outputs": [
    {
     "name": "stdout",
     "output_type": "stream",
     "text": [
      "Missing values before cleaning:\n",
      "Demographics:\n",
      " CustomerID       0\n",
      "Age            291\n",
      "Gender           0\n",
      "Location         0\n",
      "IncomeLevel    303\n",
      "SignupDate       0\n",
      "dtype: int64\n",
      "Transactions:\n",
      " CustomerID           0\n",
      "TransactionID        0\n",
      "TransactionDate      0\n",
      "Amount             304\n",
      "ProductCategory    299\n",
      "PaymentMethod        0\n",
      "dtype: int64\n",
      "Social Media:\n",
      " CustomerID           0\n",
      "InteractionID        0\n",
      "InteractionDate      0\n",
      "Platform           311\n",
      "InteractionType      0\n",
      "Sentiment          329\n",
      "dtype: int64\n",
      "\n",
      "Data cleaning completed successfully!\n"
     ]
    }
   ],
   "source": [
    "import pandas as pd\n",
    "\n",
    "\n",
    "demographics = pd.read_csv('customer_demographics_contaminated.csv')\n",
    "transactions = pd.read_csv('customer_transactions_contaminated.csv')\n",
    "social_media = pd.read_csv('social_media_interactions_contaminated.csv')\n",
    "\n",
    "\n",
    "print(\"Missing values before cleaning:\")\n",
    "print(\"Demographics:\\n\", demographics.isnull().sum())\n",
    "print(\"Transactions:\\n\", transactions.isnull().sum())\n",
    "print(\"Social Media:\\n\", social_media.isnull().sum())\n",
    "\n",
    "\n",
    "demographics['Age'] = pd.to_numeric(demographics['Age'], errors='coerce')\n",
    "demographics = demographics[demographics['Age'].between(18, 70)]\n",
    "\n",
    "\n",
    "demographics = demographics.dropna(subset=['Age'])\n",
    "demographics['Age'] = demographics['Age'].astype(int)\n",
    "\n",
    "\n",
    "demographics.to_csv('customer_demographics_cleaned.csv', index=False)\n",
    "transactions.to_csv('customer_transactions_cleaned.csv', index=False)\n",
    "social_media.to_csv('customer_social_media_cleaned.csv', index=False)\n",
    "\n",
    "print(\"\\nData cleaning completed successfully!\")\n"
   ]
  },
  {
   "cell_type": "code",
   "execution_count": null,
   "id": "ee0829f3-6a2a-4e72-835f-0504859fd1f6",
   "metadata": {},
   "outputs": [],
   "source": []
  }
 ],
 "metadata": {
  "kernelspec": {
   "display_name": "anaconda-2024.02-py310",
   "language": "python",
   "name": "conda-env-anaconda-2024.02-py310-py"
  },
  "language_info": {
   "codemirror_mode": {
    "name": "ipython",
    "version": 3
   },
   "file_extension": ".py",
   "mimetype": "text/x-python",
   "name": "python",
   "nbconvert_exporter": "python",
   "pygments_lexer": "ipython3",
   "version": "3.10.14"
  }
 },
 "nbformat": 4,
 "nbformat_minor": 5
}
